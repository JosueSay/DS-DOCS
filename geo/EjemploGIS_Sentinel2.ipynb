{
 "cells": [
  {
   "cell_type": "code",
   "execution_count": null,
   "id": "0c20dde7",
   "metadata": {},
   "outputs": [],
   "source": [
    "#!pip install openeo\n",
    "#!pip install rasterio"
   ]
  },
  {
   "cell_type": "code",
   "execution_count": 98,
   "id": "21f3f71f",
   "metadata": {},
   "outputs": [],
   "source": [
    "\n",
    "import rasterio\n",
    "import numpy as np\n",
    "import matplotlib.pyplot as plt\n",
    "from datetime import date\n",
    "import openeo"
   ]
  },
  {
   "cell_type": "markdown",
   "id": "581e16f2",
   "metadata": {},
   "source": [
    "Conectarse al API usando los datos de usuario y contraseña"
   ]
  },
  {
   "cell_type": "code",
   "execution_count": null,
   "id": "91fa4651",
   "metadata": {},
   "outputs": [],
   "source": [
    "connection = openeo.connect(\"https://openeo.dataspace.copernicus.eu\").authenticate_oidc()"
   ]
  },
  {
   "cell_type": "code",
   "execution_count": null,
   "id": "6c08fef1",
   "metadata": {},
   "outputs": [],
   "source": [
    "#Areas de interes\n",
    "lago_atitlan = {\n",
    "    \"west\": -91.31,\n",
    "    \"east\": -91.08,\n",
    "    \"south\": 14.60,\n",
    "    \"north\": 14.74\n",
    "}\n",
    "lago_amatitlan = {\n",
    "    \"west\": -90.66,\n",
    "    \"east\": -90.58,\n",
    "    \"south\": 14.43,\n",
    "    \"north\": 14.51\n",
    "}"
   ]
  },
  {
   "cell_type": "markdown",
   "id": "06e679ad",
   "metadata": {},
   "source": [
    "Cargando las coordeanadas de Guatemala"
   ]
  },
  {
   "cell_type": "code",
   "execution_count": null,
   "id": "5c6a42e5",
   "metadata": {},
   "outputs": [],
   "source": [
    "atitlan_cube = connection.load_collection(\n",
    "    \"SENTINEL2_L2A\",\n",
    "    spatial_extent=lago_atitlan,  # Región de Guatemala\n",
    "    temporal_extent=[\"2025-08-01\", \"2025-08-03\"],  # Usa fechas pasadas, no futuras\n",
    "    bands=[\"B02\",\"B03\",\"B04\", \"B08\"]\n",
    ")"
   ]
  },
  {
   "cell_type": "markdown",
   "id": "79268f0b",
   "metadata": {},
   "source": [
    "Descargar la imagen"
   ]
  },
  {
   "cell_type": "code",
   "execution_count": null,
   "id": "17d7dc9a",
   "metadata": {},
   "outputs": [],
   "source": [
    "result_graph = atitlan_cube.save_result(format=\"GTIFF\")\n",
    "job = connection.create_job(result_graph)\n",
    "job.start_and_wait()\n",
    "job.download_results(\"../data/GIS/Bandas_Atitlan.tif\")"
   ]
  },
  {
   "cell_type": "markdown",
   "id": "1bbc5dbb",
   "metadata": {},
   "source": [
    "Visualizar lo descargado"
   ]
  },
  {
   "cell_type": "code",
   "execution_count": null,
   "id": "d80063e6",
   "metadata": {},
   "outputs": [],
   "source": [
    "ruta_tif = \"../data/GIS/Bandas_Atitlan.tif\"\n",
    "\n",
    "with rasterio.open(ruta_tif) as src:\n",
    "    bandas = src.read()  # Lee todas las bandas\n",
    "    nombres = src.descriptions if src.descriptions[0] else [f\"Banda {i+1}\" for i in range(src.count)]\n",
    "    nodata = src.nodata\n",
    "\n",
    "# Visualizar bandas individuales\n",
    "for i in range(bandas.shape[0]):\n",
    "    plt.figure(figsize=(6, 6))\n",
    "    img = bandas[i]\n",
    "    img = np.ma.masked_where(img == nodata, img)\n",
    "    plt.imshow(img, cmap='gray')\n",
    "    plt.title(f\"{nombres[i]}\")\n",
    "    plt.axis('off')\n",
    "    plt.colorbar(label=\"Reflectancia\")\n",
    "    plt.show()"
   ]
  },
  {
   "cell_type": "markdown",
   "id": "3999e94d",
   "metadata": {},
   "source": [
    "Mostrar en falso color"
   ]
  },
  {
   "cell_type": "code",
   "execution_count": null,
   "id": "f8c62869",
   "metadata": {},
   "outputs": [],
   "source": [
    "with rasterio.open(\"../data/GIS/Bandas_Atitlan\") as src:\n",
    "    print(\"Número de bandas:\", src.count)\n",
    "    print(\"Descripciones:\", src.descriptions)"
   ]
  },
  {
   "cell_type": "code",
   "execution_count": null,
   "id": "8fa13975",
   "metadata": {},
   "outputs": [],
   "source": [
    "# Normalizador\n",
    "def normalize(b):\n",
    "    b_min, b_max = np.percentile(b[b > 0], (2, 98))\n",
    "    return np.clip((b - b_min) / (b_max - b_min), 0, 1)\n",
    "\n",
    "blue = bandas[0]   #B02\n",
    "green = bandas[1]  # B03\n",
    "red = bandas[2]    # B04\n",
    "nir = bandas[3]    # B08\n",
    "\n",
    "# Reasignar correctamente:\n",
    "b = normalize(blue)  # B02\n",
    "g = normalize(green)    # B03\n",
    "r = normalize(red)    # B04\n",
    "n = normalize(blue)    # B08\n",
    "\n",
    "# Falso color (NIR, Red, Green)\n",
    "rgb = np.dstack([r, g, b])\n",
    "\n",
    "plt.figure(figsize=(10, 6))\n",
    "plt.imshow(rgb)\n",
    "plt.title(\"Composición en true color (Blue - Red - Green)\")\n",
    "plt.axis('off')\n",
    "plt.show()\n"
   ]
  },
  {
   "cell_type": "markdown",
   "id": "e9c17183",
   "metadata": {},
   "source": [
    "## NDVI\n",
    "\n",
    "Calcule el índice de diferencia normalizada para el lago de Atitlán. Recuerde que usando Sentinel-2 se calcula usando las siguiente fórmula:<br>\n",
    "\n",
    "NDVI (Sentinel 2) = (B8 – B4) / (B8 + B4)"
   ]
  },
  {
   "cell_type": "code",
   "execution_count": null,
   "id": "dd3dfe7e",
   "metadata": {},
   "outputs": [],
   "source": [
    "import numpy as np\n",
    "import matplotlib.pyplot as plt\n",
    "\n",
    "# Convertir a float32 y escalar a reflectancia (0–1)\n",
    "red_scale = red.astype(np.float32) / 10000  # B04\n",
    "nir_scale = nir.astype(np.float32) / 10000  # B08\n",
    "green_scale = green.astype(np.float32) / 10000  # B08\n",
    "blue_scale = blue.astype(np.float32) / 10000  # B08\n",
    "\n",
    "# Calcular NDVI\n",
    "ndvi_atitlan = np.where(\n",
    "    (nir_scale + red_scale) == 0,\n",
    "    0,\n",
    "    (nir_scale - red_scale) / (nir_scale + red_scale)\n",
    ")\n",
    "\n",
    "ndvi_atitlan\n"
   ]
  },
  {
   "cell_type": "markdown",
   "id": "b408ce8f",
   "metadata": {},
   "source": [
    "### Visualizar NDVI"
   ]
  },
  {
   "cell_type": "code",
   "execution_count": null,
   "id": "83a2013f",
   "metadata": {},
   "outputs": [],
   "source": [
    "# Mostrar NDVI\n",
    "plt.figure(figsize=(10, 6))\n",
    "plt.imshow(ndvi_atitlan, cmap='YlGn', vmin=0, vmax=1)\n",
    "plt.title(\"NDVI – Lago de Atitlán (corregido)\")\n",
    "plt.colorbar(label=\"Índice NDVI\")\n",
    "plt.axis('off')\n",
    "plt.show()"
   ]
  },
  {
   "cell_type": "markdown",
   "id": "49dd2278",
   "metadata": {},
   "source": [
    "| NDVI          | Interpretación                                |\n",
    "| ------------- | --------------------------------------------- |\n",
    "| **0.6 a 1.0** | Vegetación muy densa y sana                   |\n",
    "| **0.4 a 0.6** | Vegetación saludable (cultivos, bosques)      |\n",
    "| **0.2 a 0.4** | Vegetación escasa o en estrés                 |\n",
    "| **0.0 a 0.2** | Suelo desnudo, hierba seca                    |\n",
    "| **< 0.0**     | Agua, nubes, nieve o superficies artificiales |\n"
   ]
  },
  {
   "cell_type": "markdown",
   "id": "cb77b258",
   "metadata": {},
   "source": []
  },
  {
   "cell_type": "markdown",
   "id": "5105cb92",
   "metadata": {},
   "source": [
    "## NDWI\n",
    "Calcule el índice de agua de diferencia normalizada (NDWI). Recuerde que se calcula usando la siguiente fórmula: <br>\n",
    "NDWI (Sentinel 2) = (B3 – B8) / (B3 + B8)"
   ]
  },
  {
   "cell_type": "code",
   "execution_count": null,
   "id": "2564852b",
   "metadata": {},
   "outputs": [],
   "source": [
    "\n",
    "\n",
    "ndwi_atitlan = np.where(\n",
    "    (green_scale + nir_scale) == 0,\n",
    "    0,\n",
    "    (green_scale - nir_scale) / (green_scale + nir_scale)\n",
    ")\n",
    "ndwi_atitlan"
   ]
  },
  {
   "cell_type": "code",
   "execution_count": null,
   "id": "b340834d",
   "metadata": {},
   "outputs": [],
   "source": [
    "plt.imshow(ndwi_atitlan, cmap='BrBG', vmin=-1, vmax=1)\n",
    "plt.title(\"NDWI – Lago de Atitlán\")\n",
    "plt.colorbar()\n",
    "plt.axis('off')\n",
    "plt.show()"
   ]
  },
  {
   "cell_type": "markdown",
   "id": "6fd1729a",
   "metadata": {},
   "source": [
    "| NDWI        | Interpretación                       |\n",
    "| ----------- | ------------------------------------ |\n",
    "| **> 0.2**   | Agua o zonas húmedas                 |\n",
    "| **0 a 0.2** | Vegetación poco densa o suelo húmedo |\n",
    "| **< 0**     | Vegetación o suelo seco              |\n"
   ]
  },
  {
   "cell_type": "markdown",
   "id": "ff81d0ce",
   "metadata": {},
   "source": [
    "## Ejercicios:"
   ]
  },
  {
   "cell_type": "markdown",
   "id": "43b2f0c9",
   "metadata": {},
   "source": [
    "1. Muestre el mapa en true color del lago de Amatitlan.  \n",
    "2. Calcule los índices NDVI y NDWI para el lago de amatitlán y muestre los mapas.  \n",
    "3. Discuta semejanzas y diferencias sobre los índices en ambos lagos"
   ]
  },
  {
   "cell_type": "markdown",
   "id": "ecffb0ce",
   "metadata": {},
   "source": []
  }
 ],
 "metadata": {
  "kernelspec": {
   "display_name": "Python 3",
   "language": "python",
   "name": "python3"
  },
  "language_info": {
   "codemirror_mode": {
    "name": "ipython",
    "version": 3
   },
   "file_extension": ".py",
   "mimetype": "text/x-python",
   "name": "python",
   "nbconvert_exporter": "python",
   "pygments_lexer": "ipython3",
   "version": "3.13.3"
  }
 },
 "nbformat": 4,
 "nbformat_minor": 5
}
