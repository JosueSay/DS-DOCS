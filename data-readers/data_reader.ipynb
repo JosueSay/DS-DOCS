{
 "cells": [
  {
   "cell_type": "markdown",
   "id": "b895fc27",
   "metadata": {},
   "source": [
    "# Análisis de Importación de Vehículos desde el Portal SAT"
   ]
  },
  {
   "cell_type": "code",
   "execution_count": 15,
   "id": "e5132fef",
   "metadata": {},
   "outputs": [],
   "source": [
    "import os\n",
    "import re\n",
    "import requests\n",
    "from bs4 import BeautifulSoup\n",
    "from urllib.parse import urljoin\n",
    "import zipfile\n",
    "import csv"
   ]
  },
  {
   "cell_type": "code",
   "execution_count": 16,
   "id": "a71b893e",
   "metadata": {},
   "outputs": [],
   "source": [
    "urlSat = \"https://portal.sat.gob.gt/portal/alza-e-importacion-vehiculos/#1510763502681-dff4b62b-fd76\"\n",
    "baseUrl = \"https://portal.sat.gob.gt\"\n",
    "rutaSalida = \"./datos/enlaces-importacion-2024_2025.txt\"\n",
    "carpetaZips = \"./datos/zips/\"\n",
    "carpetaDescomprimidos = \"./datos/descomprimidos/\"\n",
    "archivoUnificado = \"./datos/data_unificada.csv\"\n"
   ]
  },
  {
   "cell_type": "markdown",
   "id": "ffe3fe22",
   "metadata": {},
   "source": [
    "## Código para bajar los enlaces necesarios\n",
    "\n",
    "Podemos en un futuro solo aplicar el codigo para descarga de descomprimir los archivos dado los enlaces sin hacer la búsqueda."
   ]
  },
  {
   "cell_type": "code",
   "execution_count": null,
   "id": "b7319b52",
   "metadata": {},
   "outputs": [],
   "source": [
    "def obtenerImportacionesZips(url):\n",
    "    resp = requests.get(url, timeout=15)\n",
    "    resp.raise_for_status()\n",
    "\n",
    "    soup = BeautifulSoup(resp.text, \"html.parser\")\n",
    "    patronZip = re.compile(r\"\\.zip$\", re.I)\n",
    "    patronImportacion = re.compile(r\"/importacion-de-vehiculos/\", re.I)\n",
    "\n",
    "    enlaces = set()\n",
    "\n",
    "    for a in soup.find_all(\"a\", href=True):\n",
    "        href = a[\"href\"]\n",
    "        if (\n",
    "            patronZip.search(href)\n",
    "            and (\"2024\" in href or \"2025\" in href)\n",
    "            and patronImportacion.search(href)\n",
    "        ):\n",
    "            enlaces.add(urljoin(baseUrl, href))\n",
    "\n",
    "    return sorted(enlaces)"
   ]
  },
  {
   "cell_type": "code",
   "execution_count": null,
   "id": "19f31246",
   "metadata": {},
   "outputs": [],
   "source": [
    "def guardarEnlacesImportacion(forzar=False):\n",
    "    if os.path.exists(rutaSalida) and not forzar:\n",
    "        respuesta = input(f\"El archivo '{rutaSalida}' ya existe. ¿Deseas rehacer el proceso? (s/n): \").strip().lower()\n",
    "        if respuesta != \"s\":\n",
    "            print(\"Proceso cancelado.\")\n",
    "            return\n",
    "\n",
    "    print(\"Obteniendo enlaces...\")\n",
    "    enlaces = obtenerImportacionesZips(urlSat)\n",
    "\n",
    "    os.makedirs(os.path.dirname(rutaSalida), exist_ok=True)\n",
    "\n",
    "    with open(rutaSalida, \"w\", encoding=\"utf-8\") as f:\n",
    "        f.write(\"\\n\".join(enlaces))\n",
    "\n",
    "    print(f\"{len(enlaces)} enlaces guardados en {rutaSalida}\")"
   ]
  },
  {
   "cell_type": "markdown",
   "id": "c4d8e397",
   "metadata": {},
   "source": [
    "### Hacer WebScrapping\n",
    "\n",
    "Se puede cambiar el valor **forzar** a true para hacer la descarga automatica de los enlaces (aún si existe el archivo de enlaces en `./data/enlaces-importacion-2024_2025.txt`)"
   ]
  },
  {
   "cell_type": "code",
   "execution_count": null,
   "id": "0add584d",
   "metadata": {},
   "outputs": [],
   "source": [
    "guardarEnlacesImportacion(forzar=False)"
   ]
  },
  {
   "cell_type": "markdown",
   "id": "43a41d3b",
   "metadata": {},
   "source": [
    "## Código para descomprimir los archivos Zip"
   ]
  },
  {
   "cell_type": "code",
   "execution_count": null,
   "id": "2536abad",
   "metadata": {},
   "outputs": [],
   "source": [
    "def descargarYDescomprimirZips(ejecutar=True):\n",
    "    \"\"\"Descarga y descomprime los ZIP listados en rutaSalida si ejecutar=True.\"\"\"\n",
    "    if not ejecutar:\n",
    "        print(\"Descarga y descompresión omitidas (ejecutar=False).\")\n",
    "        return\n",
    "\n",
    "    if not os.path.exists(rutaSalida):\n",
    "        print(f\"No existe el archivo de enlaces: {rutaSalida}\")\n",
    "        return\n",
    "\n",
    "    os.makedirs(carpetaZips, exist_ok=True)\n",
    "    os.makedirs(carpetaDescomprimidos, exist_ok=True)\n",
    "\n",
    "    with open(rutaSalida, \"r\", encoding=\"utf-8\") as f:\n",
    "        enlaces = [line.strip() for line in f if line.strip()]\n",
    "\n",
    "    for enlace in enlaces:\n",
    "        nombreZip = os.path.basename(enlace)\n",
    "        rutaZip = os.path.join(carpetaZips, nombreZip)\n",
    "\n",
    "        if not os.path.exists(rutaZip):\n",
    "            print(f\"Descargando: {nombreZip}...\")\n",
    "            try:\n",
    "                r = requests.get(enlace, timeout=30)\n",
    "                r.raise_for_status()\n",
    "                with open(rutaZip, \"wb\") as fzip:\n",
    "                    fzip.write(r.content)\n",
    "                print(f\"Descargado: {rutaZip}\")\n",
    "            except Exception as e:\n",
    "                print(f\"Error al descargar {enlace}: {e}\")\n",
    "                continue\n",
    "        else:\n",
    "            print(f\"Ya existe: {rutaZip}\")\n",
    "\n",
    "        try:\n",
    "            with zipfile.ZipFile(rutaZip, 'r') as zip_ref:\n",
    "                zip_ref.extractall(carpetaDescomprimidos)\n",
    "                print(f\"Descomprimido en: {carpetaDescomprimidos}\")\n",
    "        except zipfile.BadZipFile:\n",
    "            print(f\"Archivo ZIP corrupto o inválido: {rutaZip}\")"
   ]
  },
  {
   "cell_type": "markdown",
   "id": "6666e41e",
   "metadata": {},
   "source": [
    "### Descomprimir Zips\n",
    "\n",
    "Se puede modificar el campo `ejecutar` a true o false para ejecutar el proceso de descarga y descomprimir archivos."
   ]
  },
  {
   "cell_type": "code",
   "execution_count": null,
   "id": "36857d91",
   "metadata": {},
   "outputs": [],
   "source": [
    "descargarYDescomprimirZips(ejecutar=False)"
   ]
  },
  {
   "cell_type": "markdown",
   "id": "3d54ef9e",
   "metadata": {},
   "source": [
    "## Unificar archivos descomprimidos"
   ]
  },
  {
   "cell_type": "code",
   "execution_count": 19,
   "id": "da72c116",
   "metadata": {},
   "outputs": [],
   "source": [
    "def unificarArchivosTxt(ejecutar=True):\n",
    "    if not ejecutar:\n",
    "        print(\"Unificación de archivos omitida (ejecutar=False).\")\n",
    "        return\n",
    "\n",
    "    archivosTxt = [\n",
    "        f for f in os.listdir(carpetaDescomprimidos)\n",
    "        if f.endswith(\".txt\")\n",
    "    ]\n",
    "\n",
    "    if not archivosTxt:\n",
    "        print(\"No hay archivos .txt en la carpeta descomprimidos.\")\n",
    "        return\n",
    "\n",
    "    registros = []\n",
    "    encabezado = None\n",
    "\n",
    "    for archivo in archivosTxt:\n",
    "        ruta = os.path.join(carpetaDescomprimidos, archivo)\n",
    "\n",
    "        # Intentar abrir en utf-8, luego latin-1 si falla\n",
    "        try:\n",
    "            with open(ruta, \"r\", encoding=\"utf-8\") as f:\n",
    "                lineas = [line.strip() for line in f if line.strip()]\n",
    "        except UnicodeDecodeError:\n",
    "            with open(ruta, \"r\", encoding=\"latin-1\") as f:\n",
    "                lineas = [line.strip() for line in f if line.strip()]\n",
    "\n",
    "        if not lineas:\n",
    "            continue\n",
    "\n",
    "        encabezadoArchivo = lineas[0]\n",
    "        if encabezado is None:\n",
    "            encabezado = encabezadoArchivo.split(\"|\")\n",
    "        elif encabezadoArchivo != \"|\".join(encabezado):\n",
    "            print(f\"Encabezado inconsistente en: {archivo}, se omitirá.\")\n",
    "            continue\n",
    "\n",
    "        for linea in lineas[1:]:\n",
    "            registros.append(linea.split(\"|\"))\n",
    "\n",
    "    # Guardar CSV en UTF-8\n",
    "    os.makedirs(os.path.dirname(archivoUnificado), exist_ok=True)\n",
    "    with open(archivoUnificado, \"w\", newline=\"\", encoding=\"utf-8\") as fcsv:\n",
    "        writer = csv.writer(fcsv)\n",
    "        writer.writerow(encabezado)\n",
    "        writer.writerows(registros)\n",
    "\n",
    "    print(f\"{len(registros)} registros guardados en {archivoUnificado}\")"
   ]
  },
  {
   "cell_type": "markdown",
   "id": "1aeb2c26",
   "metadata": {},
   "source": [
    "### Unificar archivos\n",
    "\n",
    "Se puede modificar el campo `ejecutar` a true o false para ejecutar el proceso unificación de archivos."
   ]
  },
  {
   "cell_type": "code",
   "execution_count": 20,
   "id": "3fc944d5",
   "metadata": {},
   "outputs": [
    {
     "name": "stdout",
     "output_type": "stream",
     "text": [
      "962721 registros guardados en ./datos/data_unificada.csv\n"
     ]
    }
   ],
   "source": [
    "unificarArchivosTxt(ejecutar=True)"
   ]
  },
  {
   "cell_type": "markdown",
   "id": "fb8f444e",
   "metadata": {},
   "source": [
    "## Exploración de datos"
   ]
  },
  {
   "cell_type": "code",
   "execution_count": null,
   "id": "44b29ffc",
   "metadata": {},
   "outputs": [],
   "source": []
  },
  {
   "cell_type": "markdown",
   "id": "cb0dc977",
   "metadata": {},
   "source": [
    "### Análisis para el año 2024"
   ]
  },
  {
   "cell_type": "markdown",
   "id": "e6ac97d4",
   "metadata": {},
   "source": [
    "#### ¿Cuántos **vehículos livianos** de **cada tipo** se importaron en 2024?"
   ]
  },
  {
   "cell_type": "code",
   "execution_count": null,
   "id": "17712372",
   "metadata": {},
   "outputs": [],
   "source": []
  },
  {
   "cell_type": "markdown",
   "id": "e1c7edad",
   "metadata": {},
   "source": [
    "#### ¿Cuál es la **distribución de modelos** de **carros**, **pickups** y **SUV** importados en ese año?"
   ]
  },
  {
   "cell_type": "code",
   "execution_count": null,
   "id": "a2d9ce2c",
   "metadata": {},
   "outputs": [],
   "source": []
  },
  {
   "cell_type": "markdown",
   "id": "e2399fb8",
   "metadata": {},
   "source": [
    "#### ¿Cuál es el **tipo de vehículo** que más se importó durante el 2024?"
   ]
  },
  {
   "cell_type": "code",
   "execution_count": null,
   "id": "58458b6d",
   "metadata": {},
   "outputs": [],
   "source": []
  },
  {
   "cell_type": "markdown",
   "id": "8060fafb",
   "metadata": {},
   "source": [
    "#### ¿Cuáles fueron los **meses con mayor importación** de vehículos livianos?"
   ]
  },
  {
   "cell_type": "code",
   "execution_count": null,
   "id": "802f94a3",
   "metadata": {},
   "outputs": [],
   "source": []
  },
  {
   "cell_type": "markdown",
   "id": "aac956e2",
   "metadata": {},
   "source": [
    "### Comparativo 2024 vs 2025"
   ]
  },
  {
   "cell_type": "code",
   "execution_count": null,
   "id": "7b181a60",
   "metadata": {},
   "outputs": [],
   "source": []
  },
  {
   "cell_type": "markdown",
   "id": "109daddb",
   "metadata": {},
   "source": [
    "#### ¿Cómo vamos con la importación de **cada tipo de vehículo** en los primeros meses de 2025 comparado con los mismos meses de 2024?"
   ]
  },
  {
   "cell_type": "code",
   "execution_count": null,
   "id": "bc631aa0",
   "metadata": {},
   "outputs": [],
   "source": []
  }
 ],
 "metadata": {
  "kernelspec": {
   "display_name": ".venv",
   "language": "python",
   "name": "python3"
  },
  "language_info": {
   "codemirror_mode": {
    "name": "ipython",
    "version": 3
   },
   "file_extension": ".py",
   "mimetype": "text/x-python",
   "name": "python",
   "nbconvert_exporter": "python",
   "pygments_lexer": "ipython3",
   "version": "3.13.2"
  }
 },
 "nbformat": 4,
 "nbformat_minor": 5
}
