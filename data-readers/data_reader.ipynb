{
 "cells": [
  {
   "cell_type": "markdown",
   "id": "b895fc27",
   "metadata": {},
   "source": [
    "# Análisis de Importación de Vehículos desde el Portal SAT"
   ]
  },
  {
   "cell_type": "code",
   "execution_count": 9,
   "id": "e5132fef",
   "metadata": {},
   "outputs": [],
   "source": [
    "import os\n",
    "import re\n",
    "import requests\n",
    "from bs4 import BeautifulSoup\n",
    "from urllib.parse import urljoin\n",
    "import zipfile"
   ]
  },
  {
   "cell_type": "code",
   "execution_count": 10,
   "id": "a71b893e",
   "metadata": {},
   "outputs": [],
   "source": [
    "urlSat = \"https://portal.sat.gob.gt/portal/alza-e-importacion-vehiculos/#1510763502681-dff4b62b-fd76\"\n",
    "baseUrl = \"https://portal.sat.gob.gt\"\n",
    "rutaSalida = \"./datos/enlaces-importacion-2024_2025.txt\"\n",
    "carpetaZips = \"./datos/zips/\"\n",
    "carpetaDescomprimidos = \"./datos/descomprimidos/\""
   ]
  },
  {
   "cell_type": "markdown",
   "id": "ffe3fe22",
   "metadata": {},
   "source": [
    "## Código para bajar los enlaces necesarios\n",
    "\n",
    "Podemos en un futuro solo aplicar el codigo para descarga de descomprimir los archivos dado los enlaces sin hacer la búsqueda."
   ]
  },
  {
   "cell_type": "code",
   "execution_count": 5,
   "id": "b7319b52",
   "metadata": {},
   "outputs": [],
   "source": [
    "def obtenerImportacionesZips(url):\n",
    "    resp = requests.get(url, timeout=15)\n",
    "    resp.raise_for_status()\n",
    "\n",
    "    soup = BeautifulSoup(resp.text, \"html.parser\")\n",
    "    patronZip = re.compile(r\"\\.zip$\", re.I)\n",
    "    patronImportacion = re.compile(r\"/importacion-de-vehiculos/\", re.I)\n",
    "\n",
    "    enlaces = set()\n",
    "\n",
    "    for a in soup.find_all(\"a\", href=True):\n",
    "        href = a[\"href\"]\n",
    "        if (\n",
    "            patronZip.search(href)\n",
    "            and (\"2024\" in href or \"2025\" in href)\n",
    "            and patronImportacion.search(href)\n",
    "        ):\n",
    "            enlaces.add(urljoin(baseUrl, href))\n",
    "\n",
    "    return sorted(enlaces)"
   ]
  },
  {
   "cell_type": "code",
   "execution_count": 6,
   "id": "19f31246",
   "metadata": {},
   "outputs": [],
   "source": [
    "def guardarEnlacesImportacion(forzar=False):\n",
    "    if os.path.exists(rutaSalida) and not forzar:\n",
    "        respuesta = input(f\"El archivo '{rutaSalida}' ya existe. ¿Deseas rehacer el proceso? (s/n): \").strip().lower()\n",
    "        if respuesta != \"s\":\n",
    "            print(\"Proceso cancelado.\")\n",
    "            return\n",
    "\n",
    "    print(\"Obteniendo enlaces...\")\n",
    "    enlaces = obtenerImportacionesZips(urlSat)\n",
    "\n",
    "    os.makedirs(os.path.dirname(rutaSalida), exist_ok=True)\n",
    "\n",
    "    with open(rutaSalida, \"w\", encoding=\"utf-8\") as f:\n",
    "        f.write(\"\\n\".join(enlaces))\n",
    "\n",
    "    print(f\"{len(enlaces)} enlaces guardados en {rutaSalida}\")"
   ]
  },
  {
   "cell_type": "markdown",
   "id": "c4d8e397",
   "metadata": {},
   "source": [
    "### Hacer WebScrapping\n",
    "\n",
    "Se puede cambiar el valor **forzar** a true para hacer la descarga automatica de los enlaces (aún si existe el archivo de enlaces en `./data/enlaces-importacion-2024_2025.txt`)"
   ]
  },
  {
   "cell_type": "code",
   "execution_count": 7,
   "id": "0add584d",
   "metadata": {},
   "outputs": [
    {
     "name": "stdout",
     "output_type": "stream",
     "text": [
      "Obteniendo enlaces...\n",
      "17 enlaces guardados en ./datos/enlaces-importacion-2024_2025.txt\n"
     ]
    }
   ],
   "source": [
    "guardarEnlacesImportacion(forzar=False)"
   ]
  },
  {
   "cell_type": "markdown",
   "id": "43a41d3b",
   "metadata": {},
   "source": [
    "## Código para descomprimir los archivos Zip"
   ]
  },
  {
   "cell_type": "code",
   "execution_count": 12,
   "id": "2536abad",
   "metadata": {},
   "outputs": [],
   "source": [
    "def descargarYDescomprimirZips(ejecutar=True):\n",
    "    \"\"\"Descarga y descomprime los ZIP listados en rutaSalida si ejecutar=True.\"\"\"\n",
    "    if not ejecutar:\n",
    "        print(\"Descarga y descompresión omitidas (ejecutar=False).\")\n",
    "        return\n",
    "\n",
    "    if not os.path.exists(rutaSalida):\n",
    "        print(f\"No existe el archivo de enlaces: {rutaSalida}\")\n",
    "        return\n",
    "\n",
    "    os.makedirs(carpetaZips, exist_ok=True)\n",
    "    os.makedirs(carpetaDescomprimidos, exist_ok=True)\n",
    "\n",
    "    with open(rutaSalida, \"r\", encoding=\"utf-8\") as f:\n",
    "        enlaces = [line.strip() for line in f if line.strip()]\n",
    "\n",
    "    for enlace in enlaces:\n",
    "        nombreZip = os.path.basename(enlace)\n",
    "        rutaZip = os.path.join(carpetaZips, nombreZip)\n",
    "\n",
    "        if not os.path.exists(rutaZip):\n",
    "            print(f\"Descargando: {nombreZip}...\")\n",
    "            try:\n",
    "                r = requests.get(enlace, timeout=30)\n",
    "                r.raise_for_status()\n",
    "                with open(rutaZip, \"wb\") as fzip:\n",
    "                    fzip.write(r.content)\n",
    "                print(f\"Descargado: {rutaZip}\")\n",
    "            except Exception as e:\n",
    "                print(f\"Error al descargar {enlace}: {e}\")\n",
    "                continue\n",
    "        else:\n",
    "            print(f\"Ya existe: {rutaZip}\")\n",
    "\n",
    "        try:\n",
    "            with zipfile.ZipFile(rutaZip, 'r') as zip_ref:\n",
    "                zip_ref.extractall(carpetaDescomprimidos)\n",
    "                print(f\"Descomprimido en: {carpetaDescomprimidos}\")\n",
    "        except zipfile.BadZipFile:\n",
    "            print(f\"Archivo ZIP corrupto o inválido: {rutaZip}\")"
   ]
  },
  {
   "cell_type": "markdown",
   "id": "6666e41e",
   "metadata": {},
   "source": [
    "### Descomprimir Zips\n",
    "\n",
    "Se puede modificar el campo `ejecutar` a true o false para ejecutar el proceso de descarga y descomprimir archivos."
   ]
  },
  {
   "cell_type": "code",
   "execution_count": 13,
   "id": "36857d91",
   "metadata": {},
   "outputs": [
    {
     "name": "stdout",
     "output_type": "stream",
     "text": [
      "Descargando: importacion_de_vehiculos_2024_enero.zip...\n",
      "Descargado: ./datos/zips/importacion_de_vehiculos_2024_enero.zip\n",
      "Descomprimido en: ./datos/descomprimidos/\n",
      "Descargando: importacion_de_vehiculos_2024_febrero.zip...\n",
      "Descargado: ./datos/zips/importacion_de_vehiculos_2024_febrero.zip\n",
      "Descomprimido en: ./datos/descomprimidos/\n",
      "Descargando: importacion_de_vehiculos_2024_marzo.zip...\n",
      "Descargado: ./datos/zips/importacion_de_vehiculos_2024_marzo.zip\n",
      "Descomprimido en: ./datos/descomprimidos/\n",
      "Descargando: importacion_de_vehiculos_2024_abril.zip...\n",
      "Descargado: ./datos/zips/importacion_de_vehiculos_2024_abril.zip\n",
      "Descomprimido en: ./datos/descomprimidos/\n",
      "Descargando: importacion_de_vehiculos_2024_mayo.zip...\n",
      "Descargado: ./datos/zips/importacion_de_vehiculos_2024_mayo.zip\n",
      "Descomprimido en: ./datos/descomprimidos/\n",
      "Descargando: importacion_de_vehiculos_2024_junio.zip...\n",
      "Descargado: ./datos/zips/importacion_de_vehiculos_2024_junio.zip\n",
      "Descomprimido en: ./datos/descomprimidos/\n",
      "Descargando: importacion_de_vehiculos_2024_julio.zip...\n",
      "Descargado: ./datos/zips/importacion_de_vehiculos_2024_julio.zip\n",
      "Descomprimido en: ./datos/descomprimidos/\n",
      "Descargando: importacion_de_vehiculos_2024_agosto.zip...\n",
      "Descargado: ./datos/zips/importacion_de_vehiculos_2024_agosto.zip\n",
      "Descomprimido en: ./datos/descomprimidos/\n",
      "Descargando: importacion_de_vehiculos_2024_septiembre.zip...\n",
      "Descargado: ./datos/zips/importacion_de_vehiculos_2024_septiembre.zip\n",
      "Descomprimido en: ./datos/descomprimidos/\n",
      "Descargando: importacion_de_vehiculos_2024_octubre.zip...\n",
      "Descargado: ./datos/zips/importacion_de_vehiculos_2024_octubre.zip\n",
      "Descomprimido en: ./datos/descomprimidos/\n",
      "Descargando: importacion_de_vehiculos_2024_noviembre.zip...\n",
      "Descargado: ./datos/zips/importacion_de_vehiculos_2024_noviembre.zip\n",
      "Descomprimido en: ./datos/descomprimidos/\n",
      "Descargando: importacion_de_vehiculos_2024_diciembre.zip...\n",
      "Descargado: ./datos/zips/importacion_de_vehiculos_2024_diciembre.zip\n",
      "Descomprimido en: ./datos/descomprimidos/\n",
      "Descargando: importacion_de_vehiculos_2025_enero.zip...\n",
      "Descargado: ./datos/zips/importacion_de_vehiculos_2025_enero.zip\n",
      "Descomprimido en: ./datos/descomprimidos/\n",
      "Descargando: importacion_de_vehiculos_2025_febrero.zip...\n",
      "Descargado: ./datos/zips/importacion_de_vehiculos_2025_febrero.zip\n",
      "Descomprimido en: ./datos/descomprimidos/\n",
      "Descargando: importacion_de_vehiculos_2025_marzo.zip...\n",
      "Descargado: ./datos/zips/importacion_de_vehiculos_2025_marzo.zip\n",
      "Descomprimido en: ./datos/descomprimidos/\n",
      "Descargando: importacion_de_vehiculos_2025_abril.zip...\n",
      "Descargado: ./datos/zips/importacion_de_vehiculos_2025_abril.zip\n",
      "Descomprimido en: ./datos/descomprimidos/\n",
      "Descargando: importacion_de_vehiculos_2025_mayo.zip...\n",
      "Descargado: ./datos/zips/importacion_de_vehiculos_2025_mayo.zip\n",
      "Descomprimido en: ./datos/descomprimidos/\n"
     ]
    }
   ],
   "source": [
    "descargarYDescomprimirZips(ejecutar=True)"
   ]
  },
  {
   "cell_type": "markdown",
   "id": "3d54ef9e",
   "metadata": {},
   "source": []
  },
  {
   "cell_type": "code",
   "execution_count": null,
   "id": "da72c116",
   "metadata": {},
   "outputs": [],
   "source": []
  }
 ],
 "metadata": {
  "kernelspec": {
   "display_name": ".venv",
   "language": "python",
   "name": "python3"
  },
  "language_info": {
   "codemirror_mode": {
    "name": "ipython",
    "version": 3
   },
   "file_extension": ".py",
   "mimetype": "text/x-python",
   "name": "python",
   "nbconvert_exporter": "python",
   "pygments_lexer": "ipython3",
   "version": "3.13.2"
  }
 },
 "nbformat": 4,
 "nbformat_minor": 5
}
