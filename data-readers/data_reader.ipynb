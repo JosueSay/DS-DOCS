{
 "cells": [
  {
   "cell_type": "markdown",
   "id": "b895fc27",
   "metadata": {},
   "source": [
    "# Análisis de Importación de Vehículos desde el Portal SAT"
   ]
  },
  {
   "cell_type": "code",
   "execution_count": 27,
   "id": "e5132fef",
   "metadata": {},
   "outputs": [],
   "source": [
    "import os\n",
    "import re\n",
    "import requests\n",
    "from bs4 import BeautifulSoup\n",
    "from urllib.parse import urljoin\n",
    "import zipfile\n",
    "import csv\n",
    "import pandas as pd"
   ]
  },
  {
   "cell_type": "code",
   "execution_count": null,
   "id": "a71b893e",
   "metadata": {},
   "outputs": [],
   "source": [
    "urlSat = \"https://portal.sat.gob.gt/portal/alza-e-importacion-vehiculos/#1510763502681-dff4b62b-fd76\"\n",
    "baseUrl = \"https://portal.sat.gob.gt\"\n",
    "rutaSalida = \"./datos/enlaces-importacion-2024_2025.txt\"\n",
    "carpetaZips = \"./datos/zips/\"\n",
    "carpetaDescomprimidos = \"./datos/descomprimidos/\"\n",
    "archivoUnificado = \"./datos/data_unificada.csv\"\n"
   ]
  },
  {
   "cell_type": "markdown",
   "id": "ffe3fe22",
   "metadata": {},
   "source": [
    "## Código para bajar los enlaces necesarios\n",
    "\n",
    "Podemos en un futuro solo aplicar el codigo para descarga de descomprimir los archivos dado los enlaces sin hacer la búsqueda."
   ]
  },
  {
   "cell_type": "code",
   "execution_count": null,
   "id": "b7319b52",
   "metadata": {},
   "outputs": [],
   "source": [
    "def obtenerImportacionesZips(url):\n",
    "    resp = requests.get(url, timeout=15)\n",
    "    resp.raise_for_status()\n",
    "\n",
    "    soup = BeautifulSoup(resp.text, \"html.parser\")\n",
    "    patronZip = re.compile(r\"\\.zip$\", re.I)\n",
    "    patronImportacion = re.compile(r\"/importacion-de-vehiculos/\", re.I)\n",
    "\n",
    "    enlaces = set()\n",
    "\n",
    "    for a in soup.find_all(\"a\", href=True):\n",
    "        href = a[\"href\"]\n",
    "        if (\n",
    "            patronZip.search(href)\n",
    "            and (\"2024\" in href or \"2025\" in href)\n",
    "            and patronImportacion.search(href)\n",
    "        ):\n",
    "            enlaces.add(urljoin(baseUrl, href))\n",
    "\n",
    "    return sorted(enlaces)"
   ]
  },
  {
   "cell_type": "code",
   "execution_count": null,
   "id": "19f31246",
   "metadata": {},
   "outputs": [],
   "source": [
    "def guardarEnlacesImportacion(forzar=True):\n",
    "    if os.path.exists(rutaSalida) and not forzar:\n",
    "        respuesta = input(f\"El archivo '{rutaSalida}' ya existe. ¿Deseas rehacer el proceso? (s/n): \").strip().lower()\n",
    "        if respuesta != \"s\":\n",
    "            print(\"Proceso cancelado.\")\n",
    "            return\n",
    "\n",
    "    print(\"Obteniendo enlaces...\")\n",
    "    enlaces = obtenerImportacionesZips(urlSat)\n",
    "\n",
    "    os.makedirs(os.path.dirname(rutaSalida), exist_ok=True)\n",
    "\n",
    "    with open(rutaSalida, \"w\", encoding=\"utf-8\") as f:\n",
    "        f.write(\"\\n\".join(enlaces))\n",
    "\n",
    "    print(f\"{len(enlaces)} enlaces guardados en {rutaSalida}\")"
   ]
  },
  {
   "cell_type": "markdown",
   "id": "c4d8e397",
   "metadata": {},
   "source": [
    "### Hacer WebScrapping\n",
    "\n",
    "Se puede cambiar el valor **forzar** a true para hacer la descarga automatica de los enlaces (aún si existe el archivo de enlaces en `./data/enlaces-importacion-2024_2025.txt`)"
   ]
  },
  {
   "cell_type": "code",
   "execution_count": null,
   "id": "0add584d",
   "metadata": {},
   "outputs": [],
   "source": [
    "guardarEnlacesImportacion(forzar=False)"
   ]
  },
  {
   "cell_type": "markdown",
   "id": "43a41d3b",
   "metadata": {},
   "source": [
    "## Código para descomprimir los archivos Zip"
   ]
  },
  {
   "cell_type": "code",
   "execution_count": 44,
   "id": "2536abad",
   "metadata": {},
   "outputs": [],
   "source": [
    "def descargarYDescomprimirZips(ejecutar=True):\n",
    "    \"\"\"Descarga y descomprime los ZIP listados en rutaSalida si ejecutar=True.\"\"\"\n",
    "    if not ejecutar:\n",
    "        print(\"Descarga y descompresión omitidas (ejecutar=False).\")\n",
    "        return\n",
    "\n",
    "    if not os.path.exists(rutaSalida):\n",
    "        print(f\"No existe el archivo de enlaces: {rutaSalida}\")\n",
    "        return\n",
    "\n",
    "    os.makedirs(carpetaZips, exist_ok=True)\n",
    "    os.makedirs(carpetaDescomprimidos, exist_ok=True)\n",
    "\n",
    "    with open(rutaSalida, \"r\", encoding=\"utf-8\") as f:\n",
    "        enlaces = [line.strip() for line in f if line.strip()]\n",
    "\n",
    "    for enlace in enlaces:\n",
    "        nombreZip = os.path.basename(enlace)\n",
    "        rutaZip   = os.path.join(carpetaZips, nombreZip)\n",
    "\n",
    "        # Descarga\n",
    "        if not os.path.exists(rutaZip):\n",
    "            print(f\"Descargando: {nombreZip}...\")\n",
    "            try:\n",
    "                r = requests.get(enlace, timeout=30)\n",
    "                r.raise_for_status()\n",
    "                with open(rutaZip, \"wb\") as fzip:\n",
    "                    fzip.write(r.content)\n",
    "                print(f\"Descargado: {rutaZip}\")\n",
    "            except Exception as e:\n",
    "                print(f\"Error al descargar {enlace}: {e}\")\n",
    "                continue\n",
    "        else:\n",
    "            print(f\"Ya existe: {rutaZip}\")\n",
    "\n",
    "        # Descompresión\n",
    "        try:\n",
    "            with zipfile.ZipFile(rutaZip, 'r') as zip_ref:\n",
    "                zip_ref.extractall(carpetaDescomprimidos)\n",
    "                print(f\"Descomprimido en: {carpetaDescomprimidos}\")\n",
    "        except zipfile.BadZipFile:\n",
    "            print(f\"Archivo ZIP corrupto o inválido: {rutaZip}\")"
   ]
  },
  {
   "cell_type": "markdown",
   "id": "6666e41e",
   "metadata": {},
   "source": [
    "### Descomprimir Zips\n",
    "\n",
    "Se puede modificar el campo `ejecutar` a true o false para ejecutar el proceso de descarga y descomprimir archivos."
   ]
  },
  {
   "cell_type": "code",
   "execution_count": 45,
   "id": "36857d91",
   "metadata": {},
   "outputs": [
    {
     "name": "stdout",
     "output_type": "stream",
     "text": [
      "Ya existe: ./datos/zips/importacion_de_vehiculos_2024_enero.zip\n",
      "Descomprimido en: ./datos/descomprimidos/\n",
      "Ya existe: ./datos/zips/importacion_de_vehiculos_2024_febrero.zip\n",
      "Descomprimido en: ./datos/descomprimidos/\n",
      "Ya existe: ./datos/zips/importacion_de_vehiculos_2024_marzo.zip\n",
      "Descomprimido en: ./datos/descomprimidos/\n",
      "Ya existe: ./datos/zips/importacion_de_vehiculos_2024_abril.zip\n",
      "Descomprimido en: ./datos/descomprimidos/\n",
      "Ya existe: ./datos/zips/importacion_de_vehiculos_2024_mayo.zip\n",
      "Descomprimido en: ./datos/descomprimidos/\n",
      "Ya existe: ./datos/zips/importacion_de_vehiculos_2024_junio.zip\n",
      "Descomprimido en: ./datos/descomprimidos/\n",
      "Ya existe: ./datos/zips/importacion_de_vehiculos_2024_julio.zip\n",
      "Descomprimido en: ./datos/descomprimidos/\n",
      "Ya existe: ./datos/zips/importacion_de_vehiculos_2024_agosto.zip\n",
      "Descomprimido en: ./datos/descomprimidos/\n",
      "Ya existe: ./datos/zips/importacion_de_vehiculos_2024_septiembre.zip\n",
      "Descomprimido en: ./datos/descomprimidos/\n",
      "Ya existe: ./datos/zips/importacion_de_vehiculos_2024_octubre.zip\n",
      "Descomprimido en: ./datos/descomprimidos/\n",
      "Ya existe: ./datos/zips/importacion_de_vehiculos_2024_noviembre.zip\n",
      "Descomprimido en: ./datos/descomprimidos/\n",
      "Ya existe: ./datos/zips/importacion_de_vehiculos_2024_diciembre.zip\n",
      "Descomprimido en: ./datos/descomprimidos/\n",
      "Ya existe: ./datos/zips/importacion_de_vehiculos_2025_enero.zip\n",
      "Descomprimido en: ./datos/descomprimidos/\n",
      "Ya existe: ./datos/zips/importacion_de_vehiculos_2025_febrero.zip\n",
      "Descomprimido en: ./datos/descomprimidos/\n",
      "Ya existe: ./datos/zips/importacion_de_vehiculos_2025_marzo.zip\n",
      "Descomprimido en: ./datos/descomprimidos/\n",
      "Ya existe: ./datos/zips/importacion_de_vehiculos_2025_abril.zip\n",
      "Descomprimido en: ./datos/descomprimidos/\n",
      "Ya existe: ./datos/zips/importacion_de_vehiculos_2025_mayo.zip\n",
      "Descomprimido en: ./datos/descomprimidos/\n"
     ]
    }
   ],
   "source": [
    "descargarYDescomprimirZips(ejecutar=True)"
   ]
  },
  {
   "cell_type": "markdown",
   "id": "3d54ef9e",
   "metadata": {},
   "source": [
    "## Unificar archivos descomprimidos"
   ]
  },
  {
   "cell_type": "code",
   "execution_count": 46,
   "id": "da72c116",
   "metadata": {},
   "outputs": [],
   "source": [
    "def unificarArchivosTxt(ejecutar=True):\n",
    "    if not ejecutar:\n",
    "        print(\"Unificación de archivos omitida (ejecutar=False).\")\n",
    "        return\n",
    "\n",
    "    archivosTxt = [f for f in os.listdir(carpetaDescomprimidos) if f.endswith(\".txt\")]\n",
    "\n",
    "    if not archivosTxt:\n",
    "        print(\"No hay archivos .txt en la carpeta descomprimidos.\")\n",
    "        return\n",
    "\n",
    "    registros = []\n",
    "    encabezado = None\n",
    "    archivosLatin1 = []\n",
    "\n",
    "    for archivo in archivosTxt:\n",
    "        ruta = os.path.join(carpetaDescomprimidos, archivo)\n",
    "\n",
    "        # Intentar abrir primero en UTF-8, luego fallback a Latin-1\n",
    "        try:\n",
    "            with open(ruta, \"r\", encoding=\"utf-8\") as f:\n",
    "                lineas = [line.strip() for line in f if line.strip()]\n",
    "        except UnicodeDecodeError:\n",
    "            with open(ruta, \"r\", encoding=\"latin-1\") as f:\n",
    "                lineas = [line.strip() for line in f if line.strip()]\n",
    "            archivosLatin1.append(archivo)\n",
    "\n",
    "        if not lineas:\n",
    "            continue\n",
    "\n",
    "        encabezadoArchivo = lineas[0].rstrip(\"|\")\n",
    "        columnas = encabezadoArchivo.split(\"|\")\n",
    "\n",
    "        if encabezado is None:\n",
    "            encabezado = columnas\n",
    "        elif encabezadoArchivo != \"|\".join(encabezado):\n",
    "            print(f\"Encabezado inconsistente en: {archivo}, se omitirá.\")\n",
    "            continue\n",
    "\n",
    "        for linea in lineas[1:]:\n",
    "            linea = linea.rstrip(\"|\")\n",
    "            partes = linea.split(\"|\")\n",
    "            if len(partes) < len(encabezado):\n",
    "                partes += [\"\"] * (len(encabezado) - len(partes))\n",
    "            elif len(partes) > len(encabezado):\n",
    "                partes = partes[:len(encabezado)]\n",
    "            registros.append(partes)\n",
    "\n",
    "    if not registros:\n",
    "        print(\"No se encontraron registros válidos.\")\n",
    "        return\n",
    "\n",
    "    # Guardar CSV\n",
    "    os.makedirs(os.path.dirname(archivoUnificado), exist_ok=True)\n",
    "    with open(archivoUnificado, \"w\", newline=\"\", encoding=\"utf-8\") as fcsv:\n",
    "        writer = csv.writer(fcsv)\n",
    "        writer.writerow(encabezado)\n",
    "        writer.writerows(registros)\n",
    "\n",
    "    print(f\"{len(registros)} registros guardados en {archivoUnificado}\")\n",
    "\n",
    "    if archivosLatin1:\n",
    "        print(\"\\nArchivos abiertos con latin-1 (no eran UTF-8):\")\n",
    "        for nombre in archivosLatin1:\n",
    "            print(f\" - {nombre}\")"
   ]
  },
  {
   "cell_type": "markdown",
   "id": "1aeb2c26",
   "metadata": {},
   "source": [
    "### Unificar archivos\n",
    "\n",
    "Se puede modificar el campo `ejecutar` a true o false para ejecutar el proceso unificación de archivos."
   ]
  },
  {
   "cell_type": "code",
   "execution_count": 47,
   "id": "3fc944d5",
   "metadata": {},
   "outputs": [
    {
     "name": "stdout",
     "output_type": "stream",
     "text": [
      "962721 registros guardados en ./datos/data_unificada.csv\n",
      "\n",
      "Archivos abiertos con latin-1 (no eran UTF-8):\n",
      " - web_imp_08022024.txt\n",
      " - web_imp_08032024.txt\n",
      " - web_imp_08042025.txt\n",
      " - web_imp_08052024.txt\n",
      " - web_imp_08062024.txt\n",
      " - web_imp_08062025.txt\n",
      " - web_imp_08072024.txt\n",
      " - web_imp_08082024.txt\n",
      " - web_imp_08092024.txt\n",
      " - web_imp_08102024.txt\n",
      " - web_imp_08112024.txt\n"
     ]
    }
   ],
   "source": [
    "unificarArchivosTxt(ejecutar=True)"
   ]
  },
  {
   "cell_type": "markdown",
   "id": "fb8f444e",
   "metadata": {},
   "source": [
    "## Exploración de datos"
   ]
  },
  {
   "cell_type": "code",
   "execution_count": 48,
   "id": "44b29ffc",
   "metadata": {},
   "outputs": [],
   "source": [
    "def analizarCsvUnificado():\n",
    "    archivo = \"datos/data_unificada.csv\"\n",
    "\n",
    "    if not os.path.exists(archivo):\n",
    "        print(f\"No se encontró el archivo: {archivo}\")\n",
    "        return None\n",
    "\n",
    "    df = pd.read_csv(archivo, encoding=\"utf-8\")\n",
    "\n",
    "    # Limpiar nombres de columna (espacios antes/después)\n",
    "    df.columns = df.columns.str.strip()\n",
    "\n",
    "    print(\"Análisis básico del archivo unificado:\")\n",
    "    print(f\"- Filas: {df.shape[0]}\")\n",
    "    print(f\"- Columnas: {df.shape[1]}\")\n",
    "    print(\"\\nColumnas:\")\n",
    "    print(df.columns.tolist())\n",
    "\n",
    "    print(\"\\nValores nulos por columna:\")\n",
    "    print(df.isnull().sum())\n",
    "\n",
    "    total_nulos = df.isnull().sum().sum()\n",
    "    print(f\"\\nTotal de valores nulos en todo el DataFrame: {total_nulos}\")\n",
    "\n",
    "    return df"
   ]
  },
  {
   "cell_type": "code",
   "execution_count": 49,
   "id": "61f78372",
   "metadata": {},
   "outputs": [
    {
     "name": "stdout",
     "output_type": "stream",
     "text": [
      "Análisis básico del archivo unificado:\n",
      "- Filas: 962721\n",
      "- Columnas: 17\n",
      "\n",
      "Columnas:\n",
      "['Pais de Proveniencia', 'Aduana de Ingreso', 'Fecha de la Poliza', 'Partida Arancelaria', 'Modelo del Vehiculo', 'Marca', 'Linea', 'Centimetros Cubicos', 'Distintivo', 'Tipo de Vehiculo', 'Tipo de Importador', 'Tipo Combustible', 'Asientos', 'Puertas', 'Tonelaje', 'Valor CIF', 'Impuesto']\n",
      "\n",
      "Valores nulos por columna:\n",
      "Pais de Proveniencia        0\n",
      "Aduana de Ingreso           0\n",
      "Fecha de la Poliza          0\n",
      "Partida Arancelaria         0\n",
      "Modelo del Vehiculo         0\n",
      "Marca                       0\n",
      "Linea                       8\n",
      "Centimetros Cubicos     12255\n",
      "Distintivo              28704\n",
      "Tipo de Vehiculo            0\n",
      "Tipo de Importador          0\n",
      "Tipo Combustible            0\n",
      "Asientos                    1\n",
      "Puertas                     1\n",
      "Tonelaje                    0\n",
      "Valor CIF                   0\n",
      "Impuesto                    0\n",
      "dtype: int64\n",
      "\n",
      "Total de valores nulos en todo el DataFrame: 40969\n"
     ]
    }
   ],
   "source": [
    "df = analizarCsvUnificado()"
   ]
  },
  {
   "cell_type": "markdown",
   "id": "cb0dc977",
   "metadata": {},
   "source": [
    "### Análisis para el año 2024"
   ]
  },
  {
   "cell_type": "markdown",
   "id": "e6ac97d4",
   "metadata": {},
   "source": [
    "#### ¿Cuántos **vehículos livianos** de **cada tipo** se importaron en 2024?"
   ]
  },
  {
   "cell_type": "code",
   "execution_count": 50,
   "id": "17712372",
   "metadata": {},
   "outputs": [
    {
     "name": "stdout",
     "output_type": "stream",
     "text": [
      "      Tipo de Vehiculo   Total\n",
      "0                 MOTO  428341\n",
      "1            CAMIONETA   58901\n",
      "2              PICK UP   41112\n",
      "3            AUTOMOVIL   33422\n",
      "4              TRIMOTO   11861\n",
      "5             MICROBUS    2082\n",
      "6         CAMIONETILLA    1771\n",
      "7                PANEL    1325\n",
      "8                 JEEP    1074\n",
      "9     VEHICULO RUSTICO     616\n",
      "10     CAMIONETA SPORT     610\n",
      "11  CAMIONETA AGRICOLA     117\n",
      "12             MINIBUS      12\n",
      "13       CARRO FUNEBRE       4\n",
      "14        MINI TRACTOR       3\n",
      "15    CARRETA-CARRETON       2\n"
     ]
    }
   ],
   "source": [
    "def conteoLivianosPorTipo(df):\n",
    "    # Asegura nombres de columnas limpios\n",
    "    df.columns = df.columns.str.strip()\n",
    "\n",
    "    # Convierte la fecha a datetime (formato DD/MM/YYYY)\n",
    "    df[\"Fecha de la Poliza\"] = pd.to_datetime(\n",
    "        df[\"Fecha de la Poliza\"], dayfirst=True, errors=\"coerce\"\n",
    "    )\n",
    "\n",
    "    # Filtra registros 2024 y distintivo “LIVIANO”\n",
    "    mask = (\n",
    "        (df[\"Fecha de la Poliza\"].dt.year == 2024) &\n",
    "        (df[\"Distintivo\"].str.upper() == \"LIVIANO\")\n",
    "    )\n",
    "\n",
    "    # Agrupa por tipo de vehículo y cuenta\n",
    "    return (\n",
    "        df.loc[mask]\n",
    "          .groupby(\"Tipo de Vehiculo\")\n",
    "          .size()\n",
    "          .reset_index(name=\"Total\")\n",
    "          .sort_values(\"Total\", ascending=False)\n",
    "          .reset_index(drop=True)\n",
    "    )\n",
    "conteo = conteoLivianosPorTipo(df)\n",
    "print(conteo)\n"
   ]
  },
  {
   "cell_type": "markdown",
   "id": "e1c7edad",
   "metadata": {},
   "source": [
    "#### ¿Cuál es la **distribución de modelos** de **carros**, **pickups** y **SUV** importados en ese año?"
   ]
  },
  {
   "cell_type": "code",
   "execution_count": null,
   "id": "a2d9ce2c",
   "metadata": {},
   "outputs": [],
   "source": []
  },
  {
   "cell_type": "markdown",
   "id": "e2399fb8",
   "metadata": {},
   "source": [
    "#### ¿Cuál es el **tipo de vehículo** que más se importó durante el 2024?"
   ]
  },
  {
   "cell_type": "code",
   "execution_count": null,
   "id": "58458b6d",
   "metadata": {},
   "outputs": [],
   "source": []
  },
  {
   "cell_type": "markdown",
   "id": "8060fafb",
   "metadata": {},
   "source": [
    "#### ¿Cuáles fueron los **meses con mayor importación** de vehículos livianos?"
   ]
  },
  {
   "cell_type": "code",
   "execution_count": null,
   "id": "802f94a3",
   "metadata": {},
   "outputs": [],
   "source": []
  },
  {
   "cell_type": "markdown",
   "id": "aac956e2",
   "metadata": {},
   "source": [
    "### Comparativo 2024 vs 2025"
   ]
  },
  {
   "cell_type": "code",
   "execution_count": null,
   "id": "7b181a60",
   "metadata": {},
   "outputs": [],
   "source": []
  },
  {
   "cell_type": "markdown",
   "id": "109daddb",
   "metadata": {},
   "source": [
    "#### ¿Cómo vamos con la importación de **cada tipo de vehículo** en los primeros meses de 2025 comparado con los mismos meses de 2024?"
   ]
  },
  {
   "cell_type": "code",
   "execution_count": null,
   "id": "bc631aa0",
   "metadata": {},
   "outputs": [],
   "source": []
  }
 ],
 "metadata": {
  "kernelspec": {
   "display_name": ".venv",
   "language": "python",
   "name": "python3"
  },
  "language_info": {
   "codemirror_mode": {
    "name": "ipython",
    "version": 3
   },
   "file_extension": ".py",
   "mimetype": "text/x-python",
   "name": "python",
   "nbconvert_exporter": "python",
   "pygments_lexer": "ipython3",
   "version": "3.13.2"
  }
 },
 "nbformat": 4,
 "nbformat_minor": 5
}
